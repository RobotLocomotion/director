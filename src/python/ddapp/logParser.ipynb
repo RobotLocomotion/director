{
 "cells": [
  {
   "cell_type": "code",
   "execution_count": 84,
   "metadata": {
    "collapsed": true
   },
   "outputs": [],
   "source": [
    "import numpy as np\n",
    "import lcm\n",
    "import drc as lcmdrc\n",
    "import matplotlib.pyplot as plt\n",
    "%matplotlib inline  "
   ]
  },
  {
   "cell_type": "code",
   "execution_count": 3,
   "metadata": {
    "collapsed": true
   },
   "outputs": [],
   "source": [
    "pathToLogFolder = \"/media/manuelli/DATA/logs/CASE/\"\n",
    "filename = \"lcmlog__2016-02-26__19-34-23-163082__CPF_add_multi_contact_2\"\n",
    "fullFilename = pathToLogFolder + filename"
   ]
  },
  {
   "cell_type": "code",
   "execution_count": 5,
   "metadata": {
    "collapsed": false
   },
   "outputs": [
    {
     "name": "stdout",
     "output_type": "stream",
     "text": [
      "reading lcmlog__2016-02-26__19-34-23-163082__CPF_add_multi_contact_2\n",
      "log file size: 893.54 MB\n"
     ]
    }
   ],
   "source": [
    "log = lcm.EventLog(fullFilename, 'r')\n",
    "print 'reading %s' % filename\n",
    "print 'log file size: %.2f MB' % (log.size()/(1024.0**2))\n",
    "startTime = 0.0\n",
    "endTime = None"
   ]
  },
  {
   "cell_type": "code",
   "execution_count": 54,
   "metadata": {
    "collapsed": false
   },
   "outputs": [],
   "source": [
    "def getTime(msg):\n",
    "    return 1.0*msg.utime/1e6\n",
    "\n",
    "def handleContactFilterPointMsg(msg):\n",
    "    d = {'t': getTime(msg)}\n",
    "    d['numContacts'] = msg.num_contact_points\n",
    "    d['squaredError'] = msg.logLikelihood\n",
    "    return d\n",
    "\n",
    "def handleSingleContactLocationMsg(msg):\n",
    "    d = {}\n",
    "    d['linkName'] = msg.link_name\n",
    "    d['contactLocation'] = np.array(msg.contact_location_in_world)\n",
    "    return d\n",
    "\n",
    "def handleContactLocationMsg(msg):\n",
    "    d = {}\n",
    "    d['numContacts'] = msg.num_contacts\n",
    "    d['contacts'] = []\n",
    "    \n",
    "    for singleMsg in msg.contacts:\n",
    "        d['contacts'].append(handleSingleContactLocationMsg(singleMsg))\n",
    "        \n",
    "    return d\n",
    "\n",
    "def handleActualAndEstimatedContactLocationMsg(msg):\n",
    "    d = {'t': getTime(msg)}\n",
    "    \n",
    "    msgActual = msg.actual_contact_location\n",
    "    msgEstimated = msg.estimated_contact_location\n",
    "    d['actual'] = handleContactLocationMsg(msgActual)\n",
    "    d['estimated'] = handleContactLocationMsg(msgEstimated)\n",
    "    return d"
   ]
  },
  {
   "cell_type": "code",
   "execution_count": 55,
   "metadata": {
    "collapsed": false
   },
   "outputs": [],
   "source": [
    "cfpDictList = []\n",
    "cfpDataList = []\n",
    "for event in log:\n",
    "    if event.channel == \"CONTACT_FILTER_POINT_ESTIMATE\":\n",
    "        msg = lcmdrc.contact_filter_estimate_t.decode(event.data)\n",
    "        cfpDictList.append(handleContactFilterPointMsg(msg))\n",
    "        \n",
    "    if event.channel == \"ACTUAL_AND_ESTIMATED_CONTACT_LOCATIONS\":\n",
    "        msg = lcmdrc.actual_and_estimated_contact_locations_t.decode(event.data)\n",
    "        cfpDataList.append(handleActualAndEstimatedContactLocationMsg(msg))\n",
    "    "
   ]
  },
  {
   "cell_type": "code",
   "execution_count": 63,
   "metadata": {
    "collapsed": true
   },
   "outputs": [],
   "source": [
    "def computeDistanceToClosestPoint(actual, estContacts):\n",
    "    distList = []\n",
    "    for est in estContacts:\n",
    "        dist = np.linalg.norm(actual['contactLocation'] - est['contactLocation'])\n",
    "        distList.append(dist)\n",
    "    \n",
    "    return np.min(np.array(distList))\n",
    "\n",
    "\n",
    "def computeEstimationError(d):\n",
    "    d_est = d['estimated']\n",
    "    d_act = d['actual']\n",
    "    \n",
    "    if d_act['numContacts'] == d_est['numContacts']:\n",
    "        error = d_act['numContacts']*[None]\n",
    "        for idx, actual in enumerate(d_act['contacts']):\n",
    "            actual['error'] = computeDistanceToClosestPoint(actual, d_est['contacts'])\n",
    "            "
   ]
  },
  {
   "cell_type": "code",
   "execution_count": 64,
   "metadata": {
    "collapsed": false
   },
   "outputs": [
    {
     "name": "stdout",
     "output_type": "stream",
     "text": [
      "1205\n",
      "736\n"
     ]
    }
   ],
   "source": [
    "print len(cfpDictList)\n",
    "print len(cfpDataList)"
   ]
  },
  {
   "cell_type": "code",
   "execution_count": 67,
   "metadata": {
    "collapsed": false
   },
   "outputs": [],
   "source": [
    "for d in cfpDataList:\n",
    "    computeEstimationError(d)"
   ]
  },
  {
   "cell_type": "code",
   "execution_count": 80,
   "metadata": {
    "collapsed": false
   },
   "outputs": [
    {
     "name": "stdout",
     "output_type": "stream",
     "text": [
      "{'estimated': {'numContacts': 2, 'contacts': [{'linkName': u'utorso', 'contactLocation': array([ 0.95587635, -0.06625859,  1.46736896])}, {'linkName': u'l_larm', 'contactLocation': array([ 0.83648545,  0.48617011,  0.90633321])}]}, 'actual': {'numContacts': 2, 'contacts': [{'linkName': u'utorso', 'contactLocation': array([ 0.95639282, -0.06286536,  1.46322334]), 'error': 0.0053820914094717008}, {'linkName': u'l_larm', 'contactLocation': array([ 0.83332741,  0.49154097,  0.9094336 ]), 'error': 0.0069592894151645057}]}, 't': 1095.82974}\n"
     ]
    }
   ],
   "source": [
    "d = cfpDataList[300]\n",
    "print d"
   ]
  },
  {
   "cell_type": "code",
   "execution_count": 99,
   "metadata": {
    "collapsed": false
   },
   "outputs": [],
   "source": [
    "cfpDataList = cfpDataList[0:20]\n",
    "time = np.zeros(len(cfpDataList))\n",
    "error = np.zeros((3,len(cfpDataList)))\n",
    "for idx, d in enumerate(cfpDataList):\n",
    "    time[idx] = d['t']\n",
    "    for idx_inner, a in enumerate(d['actual']['contacts']):\n",
    "        if a.has_key('error'):\n",
    "            error[idx_inner, idx] = a['error']\n",
    "        "
   ]
  },
  {
   "cell_type": "code",
   "execution_count": 100,
   "metadata": {
    "collapsed": false
   },
   "outputs": [
    {
     "data": {
      "text/plain": [
       "[<matplotlib.lines.Line2D at 0x7fa0fa0a4e50>]"
      ]
     },
     "execution_count": 100,
     "metadata": {},
     "output_type": "execute_result"
    },
    {
     "data": {
      "image/png": "[encoded data removed]",
      "text/plain": [
       "<matplotlib.figure.Figure at 0x7fa0fa553390>"
      ]
     },
     "metadata": {},
     "output_type": "display_data"
    }
   ],
   "source": [
    "plt.plot(time, error[0,:])\n",
    "# plt.plot(time, error[1,:])\n",
    "# plt.plot(time, error[2,:])"
   ]
  },
  {
   "cell_type": "code",
   "execution_count": 90,
   "metadata": {
    "collapsed": false
   },
   "outputs": [
    {
     "data": {
      "text/plain": [
       "900"
      ]
     },
     "execution_count": 90,
     "metadata": {},
     "output_type": "execute_result"
    }
   ],
   "source": [
    "np.size(error)"
   ]
  },
  {
   "cell_type": "code",
   "execution_count": null,
   "metadata": {
    "collapsed": true
   },
   "outputs": [],
   "source": []
  }
 ],
 "metadata": {
  "kernelspec": {
   "display_name": "Python 2",
   "language": "python",
   "name": "python2"
  },
  "language_info": {
   "codemirror_mode": {
    "name": "ipython",
    "version": 2
   },
   "file_extension": ".py",
   "mimetype": "text/x-python",
   "name": "python",
   "nbconvert_exporter": "python",
   "pygments_lexer": "ipython2",
   "version": "2.7.6"
  }
 },
 "nbformat": 4,
 "nbformat_minor": 0
}
